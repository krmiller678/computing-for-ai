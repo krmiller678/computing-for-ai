{
  "nbformat": 4,
  "nbformat_minor": 0,
  "metadata": {
    "colab": {
      "provenance": [],
      "authorship_tag": "ABX9TyPN0O48VsjslxkD7gmm0vD2",
      "include_colab_link": true
    },
    "kernelspec": {
      "name": "python3",
      "display_name": "Python 3"
    },
    "language_info": {
      "name": "python"
    }
  },
  "cells": [
    {
      "cell_type": "markdown",
      "metadata": {
        "id": "view-in-github",
        "colab_type": "text"
      },
      "source": [
        "<a href=\"https://colab.research.google.com/github/krmiller678/computing-for-ai/blob/main/GoalsForCourse.ipynb\" target=\"_parent\"><img src=\"https://colab.research.google.com/assets/colab-badge.svg\" alt=\"Open In Colab\"/></a>"
      ]
    },
    {
      "cell_type": "markdown",
      "source": [
        "## Goals for Working with AI\n",
        "---\n",
        "* Create an AI email application to automatically save drafts of emails\n",
        "* Familiarize myself with LLMs for coding assistance\n",
        "\n"
      ],
      "metadata": {
        "id": "7lwhmXBSPbow"
      }
    },
    {
      "cell_type": "code",
      "execution_count": null,
      "metadata": {
        "id": "oy1BNbI1PYxC"
      },
      "outputs": [],
      "source": []
    }
  ]
}